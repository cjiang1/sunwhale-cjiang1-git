{
 "metadata": {
  "name": "",
  "signature": "sha256:b0e38c415776e22e9cd9e2c739b1f48c9c5e47dc68a889dec8bb6fd05db82ddd"
 },
 "nbformat": 3,
 "nbformat_minor": 0,
 "worksheets": [
  {
   "cells": [
    {
     "cell_type": "heading",
     "level": 1,
     "metadata": {},
     "source": [
      "SSCP | Sunwhale | Charging Configuration Analysis"
     ]
    },
    {
     "cell_type": "code",
     "collapsed": false,
     "input": [
      "%pylab inline\n",
      "import numpy as np\n",
      "import math\n",
      "import matplotlib.pyplot as plt\n",
      "\n",
      "inToM = 0.0254 # Inches -> meters\n",
      "NPOINTS = 1000 # Number of points to compute in each calculation\n",
      "\n",
      "HB = 2.2 # Bounding box height\n",
      "WB = 1.8 # Bounding box width\n",
      "L = 12*inToM # Est. concentrator element length when fully deployed (lens + cell assembly + focal length + enclosure)\n",
      "W = 7*inToM # Est. conc. element width when deployed (lens width + enclosure; assume element is square)\n",
      "\n",
      "def compute_d(wc, hc, theta_deg):\n",
      "    \"\"\"\n",
      "    Compute d (the length of the space available for concentrators) for the given ndarray of angles\n",
      "    \"\"\"\n",
      "    theta_rad = theta_deg*(math.pi/180)\n",
      "    return WB*np.sin(theta_rad) + HB*np.cos(theta_rad) - ((hc+L)/2)*np.sin(2*theta_rad) - wc\n",
      "\n",
      "def compute_nrows(d):\n",
      "    \"\"\"\n",
      "    Compute the number of rows of concentrators that can fit for the given ndarray of d\n",
      "    \"\"\"\n",
      "    return np.floor(d/W)\n",
      "\n",
      "# Get a set of angles over which to compute (Max determined we need to consider 0-30 degrees)\n",
      "theta = np.linspace(0,30,num=NPOINTS+1)\n",
      "theta = np.delete(theta,0)"
     ],
     "language": "python",
     "metadata": {},
     "outputs": [
      {
       "output_type": "stream",
       "stream": "stdout",
       "text": [
        "Populating the interactive namespace from numpy and matplotlib\n"
       ]
      }
     ],
     "prompt_number": 41
    },
    {
     "cell_type": "heading",
     "level": 1,
     "metadata": {},
     "source": [
      "Fitting concentrators for monocoque"
     ]
    },
    {
     "cell_type": "code",
     "collapsed": false,
     "input": [
      "# Plot d, the space at the top of box available for concentrators (in m)\n",
      "d_monocoque = np.zeros((1,NPOINTS))\n",
      "d_monocoque[0] = compute_d(1.8,0.55,theta)\n",
      "plt.plot(theta,d_monocoque[0])\n",
      "plt.xlabel(r\"$\\theta$\",fontsize=16)\n",
      "plt.ylabel(\"d\",fontsize=16)"
     ],
     "language": "python",
     "metadata": {},
     "outputs": [
      {
       "metadata": {},
       "output_type": "pyout",
       "prompt_number": 42,
       "text": [
        "<matplotlib.text.Text at 0x107975d50>"
       ]
      },
      {
       "metadata": {},
       "output_type": "display_data",
       "png": "[encoded data removed]",
       "text": [
        "<matplotlib.figure.Figure at 0x106b0d190>"
       ]
      }
     ],
     "prompt_number": 42
    },
    {
     "cell_type": "heading",
     "level": 3,
     "metadata": {},
     "source": [
      "Rows of concentrators vs. angle for monocoque"
     ]
    },
    {
     "cell_type": "code",
     "collapsed": false,
     "input": [
      "# Plot number of rows of concentrators that can fit\n",
      "nrows_monocoque = np.zeros((1,NPOINTS))\n",
      "nrows_monocoque[0] = compute_nrows(d_monocoque)\n",
      "plt.plot(theta,nrows_monocoque[0])\n",
      "plt.xlabel(r\"$\\theta$\",fontsize=16)\n",
      "plt.ylabel(\"# rows\",fontsize=16)\n",
      "\n",
      "# Smallest angle that allows three rows to fit\n",
      "threeRowsIs = np.where(nrows_monocoque[0] == 3)\n",
      "minThetaThreeRows = theta[threeRowsIs[0][0]]\n",
      "print \"Smallest angle for three rows =\",minThetaThreeRows,\"degrees\""
     ],
     "language": "python",
     "metadata": {},
     "outputs": [
      {
       "output_type": "stream",
       "stream": "stdout",
       "text": [
        "Smallest angle for three rows = 10.05 degrees\n"
       ]
      },
      {
       "metadata": {},
       "output_type": "display_data",
       "png": "[encoded data removed]",
       "text": [
        "<matplotlib.figure.Figure at 0x106b78910>"
       ]
      }
     ],
     "prompt_number": 43
    },
    {
     "cell_type": "heading",
     "level": 2,
     "metadata": {},
     "source": [
      "Fitting concentrators for topshell"
     ]
    },
    {
     "cell_type": "code",
     "collapsed": false,
     "input": [
      "# Compute\n",
      "topshell_widths = linspace(1.5,1.8,4) # Range of possible topshell widths over which to compute\n",
      "topshell_height = 0.2 # Suppose the topshell curvature translates to a \"height\" of 0.2 m\n",
      "d_data = np.zeros((topshell_widths.size, theta.size)) # Empty ndarray to store data for d\n",
      "nrows_data = np.zeros((topshell_widths.size, theta.size)) # Empty ndarray to store data for # of rows\n",
      "\n",
      "for i in range(0, topshell_widths.size):\n",
      "    d_data[i] = compute_d(topshell_widths[i], topshell_height, theta)\n",
      "nrows_data = compute_nrows(d_data)\n"
     ],
     "language": "python",
     "metadata": {},
     "outputs": [],
     "prompt_number": 44
    },
    {
     "cell_type": "code",
     "collapsed": false,
     "input": [
      "# Append monocoque data for comparison in plots\n",
      "# Only run this once with the previous cell\n",
      "topshell_widths = numpy.append(topshell_widths, \"Monocoque\")\n",
      "nrows_data = numpy.append(nrows_data,nrows_monocoque,axis=0)\n",
      "d_data = numpy.append(d_data,d_monocoque,axis=0)"
     ],
     "language": "python",
     "metadata": {},
     "outputs": [],
     "prompt_number": 45
    },
    {
     "cell_type": "heading",
     "level": 3,
     "metadata": {},
     "source": [
      "Rows of concentrators for various topshell widths"
     ]
    },
    {
     "cell_type": "code",
     "collapsed": false,
     "input": [
      "# Plot nrows vs. topshell_width vs. theta\n",
      "fig,ax = plt.subplots()\n",
      "for i in range(0,topshell_widths.size):\n",
      "    ax.plot(theta, nrows_data[i], label=topshell_widths[i])\n",
      "handles, labels = ax.get_legend_handles_labels()\n",
      "ax.legend(handles,labels)\n",
      "plt.legend(bbox_to_anchor=(1.05, 1), loc=2, borderaxespad=0.)\n",
      "plt.xlabel(r\"$\\theta$\",fontsize=16)\n",
      "plt.ylabel(\"# rows\",fontsize=16)\n",
      "plt.title(\"Rows of concentrators for various topshell widths, 0-30 degrees\",fontsize=16)\n",
      "print \"Topshell 'height' = \",topshell_height"
     ],
     "language": "python",
     "metadata": {},
     "outputs": [
      {
       "output_type": "stream",
       "stream": "stdout",
       "text": [
        "Topshell 'height' =  0.2\n"
       ]
      },
      {
       "metadata": {},
       "output_type": "display_data",
       "png": "[encoded data removed]",
       "text": [
        "<matplotlib.figure.Figure at 0x106a47d10>"
       ]
      }
     ],
     "prompt_number": 46
    },
    {
     "cell_type": "code",
     "collapsed": false,
     "input": [
      "# What is the maximum topshell width to be able to fit three rows at 0 degrees?\n",
      "print \"Max topshell width for 3 rows at vertical (m) = \", HB-3*W"
     ],
     "language": "python",
     "metadata": {},
     "outputs": [
      {
       "output_type": "stream",
       "stream": "stdout",
       "text": [
        "Max topshell width for 3 rows at vertical (m) =  1.6666\n"
       ]
      }
     ],
     "prompt_number": 47
    },
    {
     "cell_type": "heading",
     "level": 2,
     "metadata": {},
     "source": [
      "\n",
      "Performance vs. # Concentrators"
     ]
    },
    {
     "cell_type": "code",
     "collapsed": false,
     "input": [
      "# Number "
     ],
     "language": "python",
     "metadata": {},
     "outputs": []
    }
   ],
   "metadata": {}
  }
 ]
}